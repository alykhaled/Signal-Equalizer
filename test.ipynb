{
 "cells": [
  {
   "cell_type": "code",
   "execution_count": null,
   "metadata": {},
   "outputs": [],
   "source": [
    "import numpy as np\n",
    "import scipy.signal as signal\n",
    "import matplotlib.pyplot as plt\n",
    "\n",
    "# Define the frequency range\n",
    "frequencies = np.logspace(1, 4, num=1000)\n",
    "\n",
    "# Define the equalizer filter\n",
    "center_frequency = 1000  # Hz\n",
    "Q = 1\n",
    "gain_db = 3  # dB\n",
    "b, a = signal.peak_filter(center_frequency, Q, gain_db, fs=44100)\n",
    "\n",
    "# Load an example audio signal\n",
    "audio_signal, fs = signal.load_wav('440.wav')\n",
    "\n",
    "# Apply the equalizer\n",
    "audio_signal_equalized = signal.lfilter(b, a, audio_signal)\n",
    "\n",
    "# Plot the frequency response of the equalizer\n",
    "w, h = signal.freqz(b, a, worN=1000)\n",
    "plt.plot(frequencies, 20*np.log10(np.abs(h)))\n",
    "plt.xscale('log')\n",
    "plt.xlabel('Frequency (Hz)')\n",
    "plt.ylabel('Gain (dB)')\n",
    "plt.show()\n"
   ]
  }
 ],
 "metadata": {
  "kernelspec": {
   "display_name": "Python 3",
   "language": "python",
   "name": "python3"
  },
  "language_info": {
   "name": "python",
   "version": "3.10.2"
  },
  "orig_nbformat": 4
 },
 "nbformat": 4,
 "nbformat_minor": 2
}
